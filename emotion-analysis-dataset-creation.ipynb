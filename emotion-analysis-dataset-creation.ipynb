{
 "cells": [
  {
   "cell_type": "code",
   "execution_count": 3,
   "metadata": {},
   "outputs": [
    {
     "name": "stdout",
     "output_type": "stream",
     "text": [
      "59172\n"
     ]
    }
   ],
   "source": [
    "lang='Tamil'\n",
    "with open('shuffled-tamil-emotions-clean-50000-combined_final.csv','r') as f:\n",
    "    list_of_sent=f.readlines()\n",
    "    print(len(list_of_sent))\n",
    "    start=0\n",
    "    for item in range(int(len(list_of_sent)/100)+1):\n",
    "        end=start+100\n",
    "        f=open(lang+str(item)+'_emotion-annotation.csv','w')\n",
    "        for sent in list_of_sent[start:end]:\n",
    "            sent=sent.strip('\\\"')\n",
    "            k=\"CHOICE\\tChoose தேர்வு செய்யவும்\\t\"+sent.strip()+\"\\t\\tமகிழ்ச்சி-Joy\\tசோகம்-sadness\\tசினம்-Anger\\tஅச்சம்-Fear\\tஎதிர்பார்ப்பு-Anticipation\\tவியப்பு-Surprise\\tநம்பிக்கை-Trust\\tஅன்பு-Love\\tஅருவருப்பு-Disgust\\tநடுநிலை-Neutral\\n\"\n",
    "            f.write(k)\n",
    "        start=end\n",
    "        f.close()"
   ]
  },
  {
   "cell_type": "code",
   "execution_count": 6,
   "metadata": {},
   "outputs": [
    {
     "name": "stdout",
     "output_type": "stream",
     "text": [
      "59172\n"
     ]
    }
   ],
   "source": [
    "lang='Tamil'\n",
    "with open('shuffled-tamil-emotions-clean-50000-combined_final.csv','r') as f:\n",
    "    list_of_sent=f.readlines()\n",
    "    print(len(list_of_sent))\n",
    "    start=0\n",
    "    for item in range(int(len(list_of_sent)/100)+1):\n",
    "        end=start+100\n",
    "        f=open(lang+str(item)+'_more_emotion-annotation.csv','w')\n",
    "        for sent in list_of_sent[start:end]:\n",
    "            sent=sent.strip('\\\"')\n",
    "            k=\"CHECKBOX\\tChoose தேர்வு செய்யவும்\\t\"+sent.strip()+\"\\t\\tபோற்றுதல்-admiration\\tகேளிக்கை-amusement\\tகோபம்-anger\\tஎரிச்சல்-annoyance\\tஒப்புதல்-approval\\tஅக்கறை-caring\\tகுழப்பம்-confusion\\tஆர்வம்-curiosity\\tஆசை-desire\\tஏமாற்றம்-disappointment\\tமறுப்பு-disapproval\\tஅருவருப்பு-disguist\\tசங்கடம்-embarrassment\\tஉற்சாகம்-excitement\\tபயம்-fear\\tநன்றியறிதல்-gratitude\\tதுக்கம்-grief\\tமகிழ்ச்சி-joy\\tஅன்பு-love\\t பதட்டம்-nervousness\\t நம்பிக்கை-optimism\\t பெருமை உணர்ச்சி-pride\\t உணர்தல்-realization\\t துயர் நீக்கம்-relief\\tகுற்றமுணர்ந்ததால் ஏற்படும் வருத்தம்-remorse\\tசோகம்-sadness\\tஆச்சரியம்-surprise\\tநடுநிலை-Neutral\\n\"\n",
    "            f.write(k)\n",
    "        start=end\n",
    "        f.close()"
   ]
  },
  {
   "cell_type": "code",
   "execution_count": null,
   "metadata": {},
   "outputs": [],
   "source": []
  }
 ],
 "metadata": {
  "anaconda-cloud": {},
  "kernelspec": {
   "display_name": "Python [default]",
   "language": "python",
   "name": "python3"
  },
  "language_info": {
   "codemirror_mode": {
    "name": "ipython",
    "version": 3
   },
   "file_extension": ".py",
   "mimetype": "text/x-python",
   "name": "python",
   "nbconvert_exporter": "python",
   "pygments_lexer": "ipython3",
   "version": "3.5.4"
  }
 },
 "nbformat": 4,
 "nbformat_minor": 2
}
