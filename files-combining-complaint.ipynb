{
 "cells": [
  {
   "cell_type": "code",
   "execution_count": 1,
   "metadata": {},
   "outputs": [],
   "source": [
    "import pandas as pd\n",
    "import os\n",
    "from statistics import mode "
   ]
  },
  {
   "cell_type": "code",
   "execution_count": 2,
   "metadata": {},
   "outputs": [],
   "source": [
    "response_dir='/home/bharathi/Desktop/malaylam-code-mix/csvresponsefiles/'\n",
    "csv_dir='/home/bharathi/Desktop/malaylam-code-mix/csvfiles/'"
   ]
  },
  {
   "cell_type": "code",
   "execution_count": 20,
   "metadata": {},
   "outputs": [],
   "source": [
    "def combining_response_and_sentence_hope(csv_dir,response_dir,out_combined):\n",
    "    #append_df=pd.DataFrame({\"Sentences\":[], \"Annotator1\":[],\"Annotator2\":[]})\n",
    "    for filename in os.listdir(csv_dir):\n",
    "        \n",
    "        fname=os.path.join(csv_dir,filename)\n",
    "        df=pd.read_excel(fname,sheetname='Sheet1',header=None)\n",
    "        response=filename.split('.')\n",
    "        response=response[0]+'.csvresponse.xlsx'\n",
    "        fname_response=os.path.join(response_dir,response)\n",
    "        #print(filename,response)\n",
    "        df_response=pd.read_excel(fname_response)\n",
    "        csv_list=df.iloc[:,2].tolist()\n",
    "        list_data=[]\n",
    "        for index in range(len(df_response)):\n",
    "            #print(index)\n",
    "            data=df_response.iloc[index].tolist()\n",
    "            #print(data)\n",
    "            #list_data.append([i for i in data[8:]])\n",
    "            list_data.append([i for i in data[7:]])\n",
    "        if len(list_data)<1:\n",
    "            print(filename,response)\n",
    "            continue\n",
    "        #print(list_data[:9])\n",
    "        \n",
    "        if len(csv_list)!=len(list_data[0]):\n",
    "            print(len(csv_list),len(list_data[0]))\n",
    "            print(filename,response)\n",
    "            continue\n",
    "        data={\"Sentences\":csv_list, \"Annotator1\":list_data[0]}\n",
    "        \n",
    "        #data={csv_list,list_data[0],list_data[1]}\n",
    "        new_df=pd.DataFrame(data)\n",
    "        k=new_df.to_csv(index=False,sep ='\\t')\n",
    "        #combined=filename.split('.')\n",
    "        #combined=out_combined\n",
    "        #append_df=append_df.append(k)\n",
    "        #result=pd.concat(list_df)\n",
    "        fname_combined=os.path.join(response_dir,out_combined)\n",
    "        f=open(fname_combined,'a')\n",
    "        print(k,file=f)\n",
    "        f.close()"
   ]
  },
  {
   "cell_type": "code",
   "execution_count": 22,
   "metadata": {},
   "outputs": [
    {
     "name": "stderr",
     "output_type": "stream",
     "text": [
      "/home/bharathi/anaconda3/lib/python3.5/site-packages/pandas/util/_decorators.py:118: FutureWarning: The `sheetname` keyword is deprecated, use `sheet_name` instead\n",
      "  return func(*args, **kwargs)\n"
     ]
    },
    {
     "name": "stdout",
     "output_type": "stream",
     "text": [
      "200 194\n",
      "Malayalam16_second_complaint.csv.xlsx Malayalam16_second_complaint.csvresponse.xlsx\n",
      "Malayalam41_second_complaint.csv.xlsx Malayalam41_second_complaint.csvresponse.xlsx\n",
      "Malayalam33_complaint.csv.xlsx Malayalam33_complaint.csvresponse.xlsx\n",
      "200 193\n",
      "Malayalam59_second_complaint.csv.xlsx Malayalam59_second_complaint.csvresponse.xlsx\n"
     ]
    }
   ],
   "source": [
    "combining_response_and_sentence_hope(csv_dir,response_dir,'malayalam-complaint-tab.csv')"
   ]
  },
  {
   "cell_type": "code",
   "execution_count": 27,
   "metadata": {},
   "outputs": [],
   "source": [
    "df=pd.read_csv('csvresponsefiles/malayalam-complaint-tab.csv',sep='\\t',header=None)"
   ]
  },
  {
   "cell_type": "code",
   "execution_count": 29,
   "metadata": {},
   "outputs": [
    {
     "data": {
      "text/plain": [
       "count             18299\n",
       "unique                3\n",
       "top       Not-Complaint\n",
       "freq              14357\n",
       "Name: 0, dtype: object"
      ]
     },
     "execution_count": 29,
     "metadata": {},
     "output_type": "execute_result"
    }
   ],
   "source": [
    "df[0].describe()"
   ]
  },
  {
   "cell_type": "code",
   "execution_count": 33,
   "metadata": {},
   "outputs": [
    {
     "name": "stderr",
     "output_type": "stream",
     "text": [
      "/home/bharathi/anaconda3/lib/python3.5/site-packages/pandas/util/_decorators.py:118: FutureWarning: The `sheetname` keyword is deprecated, use `sheet_name` instead\n",
      "  return func(*args, **kwargs)\n"
     ]
    },
    {
     "name": "stdout",
     "output_type": "stream",
     "text": [
      "Malayalam55_sarcasm_second.csv.xlsx Malayalam55_sarcasm_second.csvresponse.xlsx\n",
      "Malayalam36_sarcasm_second.csv.xlsx Malayalam36_sarcasm_second.csvresponse.xlsx\n",
      "Malayalam34_sarcasm_second.csv.xlsx Malayalam34_sarcasm_second.csvresponse.xlsx\n",
      "Malayalam52_sarcasm_second.csv.xlsx Malayalam52_sarcasm_second.csvresponse.xlsx\n",
      "Malayalam54_sarcasm_second.csv.xlsx Malayalam54_sarcasm_second.csvresponse.xlsx\n",
      "Malayalam56_sarcasm_second.csv.xlsx Malayalam56_sarcasm_second.csvresponse.xlsx\n",
      "Malayalam35_sarcasm_second.csv.xlsx Malayalam35_sarcasm_second.csvresponse.xlsx\n",
      "Malayalam57_sarcasm_second.csv.xlsx Malayalam57_sarcasm_second.csvresponse.xlsx\n"
     ]
    }
   ],
   "source": [
    "combining_response_and_sentence_hope(csv_dir,response_dir,'malayalam-scarcasm-tab.csv')"
   ]
  },
  {
   "cell_type": "code",
   "execution_count": null,
   "metadata": {},
   "outputs": [],
   "source": []
  }
 ],
 "metadata": {
  "kernelspec": {
   "display_name": "Python [default]",
   "language": "python",
   "name": "python3"
  },
  "language_info": {
   "codemirror_mode": {
    "name": "ipython",
    "version": 3
   },
   "file_extension": ".py",
   "mimetype": "text/x-python",
   "name": "python",
   "nbconvert_exporter": "python",
   "pygments_lexer": "ipython3",
   "version": "3.5.4"
  }
 },
 "nbformat": 4,
 "nbformat_minor": 2
}
